{
 "cells": [
  {
   "cell_type": "code",
   "execution_count": 1,
   "id": "e1cec4ef",
   "metadata": {},
   "outputs": [],
   "source": [
    "import pandas as pd"
   ]
  },
  {
   "cell_type": "code",
   "execution_count": 2,
   "id": "679468ae",
   "metadata": {},
   "outputs": [],
   "source": [
    "subset_ta = pd.read_csv(\"C:/Users/user/Downloads/subset_ta.csv\")"
   ]
  },
  {
   "cell_type": "code",
   "execution_count": 3,
   "id": "3b8e89e5",
   "metadata": {},
   "outputs": [
    {
     "name": "stdout",
     "output_type": "stream",
     "text": [
      "Train set shape: (3936, 4753) (3936,)\n",
      "Test set shape: (1939, 4753) (1939,)\n"
     ]
    }
   ],
   "source": [
    "from sklearn.model_selection import train_test_split\n",
    "from sklearn.preprocessing import PolynomialFeatures\n",
    "from lazypredict.Supervised import LazyClassifier\n",
    "\n",
    "target_variable = \"triage_acuity\"\n",
    "\n",
    "# Supposons que votre DataFrame est appelé 'subset_ta' et la colonne de variable cible est 'target_variable'\n",
    "X = subset_ta.drop([target_variable, 'outcome_hospitalization', \"outcome_ed_revisit_3d\",'outcome_inhospital_mortality','outcome_critical', 'outcome_icu_transfer_12h'], axis=1)  # Exclure l'ID du patient et la colonne de variable cible pour les fonctionnalités\n",
    "y = subset_ta[target_variable]  # Définir la colonne de la variable cible\n",
    "\n",
    "# Créer un objet PolynomialFeatures de degré 2\n",
    "poly = PolynomialFeatures(2)\n",
    "\n",
    "# Transformer les données\n",
    "X_poly = poly.fit_transform(X)\n",
    "\n",
    "# Diviser les données en ensembles d'entraînement et de test avec un échantillonnage stratifié\n",
    "X_train, X_test, y_train, y_test = train_test_split(\n",
    "    X_poly, y, test_size=0.33, stratify=y, random_state=42\n",
    ")\n",
    "\n",
    "# Afficher les formes des ensembles d'entraînement et de test résultants\n",
    "print(\"Train set shape:\", X_train.shape, y_train.shape)\n",
    "print(\"Test set shape:\", X_test.shape, y_test.shape)"
   ]
  },
  {
   "cell_type": "code",
   "execution_count": 4,
   "id": "6480b0c9",
   "metadata": {},
   "outputs": [
    {
     "name": "stdout",
     "output_type": "stream",
     "text": [
      "Train set shape: (3936, 95) (3936,)\n",
      "Test set shape: (1939, 95) (1939,)\n"
     ]
    }
   ],
   "source": [
    "# Supposons que votre DataFrame est appelé 'subset_ta' et la colonne de variable cible est 'target_variable'\n",
    "X1 = subset_ta.drop([target_variable, 'outcome_hospitalization', \"outcome_ed_revisit_3d\",'outcome_inhospital_mortality','outcome_critical', 'outcome_icu_transfer_12h', 'Unnamed: 0'], axis=1)  # Exclure l'ID du patient et la colonne de variable cible pour les fonctionnalités\n",
    "y1 = subset_ta[target_variable]  # Définir la colonne de la variable cible\n",
    "\n",
    "# Diviser les données en ensembles d'entraînement et de test avec un échantillonnage stratifié\n",
    "X_train1, X_test1, y_train1, y_test1 = train_test_split(\n",
    "    X1, y1, test_size=0.33, stratify=y, random_state=42\n",
    ")\n",
    "\n",
    "# Afficher les formes des ensembles d'entraînement et de test résultants\n",
    "print(\"Train set shape:\", X_train1.shape, y_train1.shape)\n",
    "print(\"Test set shape:\", X_test1.shape, y_test1.shape)"
   ]
  },
  {
   "cell_type": "code",
   "execution_count": 5,
   "id": "b22ecf82",
   "metadata": {},
   "outputs": [
    {
     "name": "stdout",
     "output_type": "stream",
     "text": [
      "               Feature  Importance\n",
      "9               ed_los        0.10\n",
      "27      chiefcomplaint        0.06\n",
      "21    triage_heartrate        0.06\n",
      "26         triage_pain        0.05\n",
      "24          triage_sbp        0.05\n",
      "0                index        0.04\n",
      "19        ed_los_hours        0.03\n",
      "25          triage_dbp        0.03\n",
      "1           subject_id        0.03\n",
      "20  triage_temperature        0.03\n",
      "87   ed_heartrate_last        0.03\n",
      "2              stay_id        0.03\n",
      "8                  age        0.03\n",
      "93               n_med        0.03\n",
      "5          anchor_year        0.03\n"
     ]
    }
   ],
   "source": [
    "from sklearn.pipeline import Pipeline\n",
    "from sklearn.tree import DecisionTreeClassifier\n",
    "import pandas as pd\n",
    "\n",
    "# Create the pipeline\n",
    "pipeline8 = Pipeline([\n",
    "    ('classifier', DecisionTreeClassifier())\n",
    "])\n",
    "\n",
    "# Fit the pipeline to the training data\n",
    "pipeline8.fit(X_train1, y_train1)\n",
    "\n",
    "# Extract the feature importances from the Decision Tree classifier\n",
    "feature_importances = pipeline8.named_steps['classifier'].feature_importances_\n",
    "\n",
    "# Create a DataFrame to store the feature importances\n",
    "feature_importances_df = pd.DataFrame({\n",
    "    'Feature': X_train1.columns,\n",
    "    'Importance': feature_importances\n",
    "})\n",
    "\n",
    "# Sort the feature importances in descending order\n",
    "feature_importances_df = feature_importances_df.sort_values('Importance', ascending=False)\n",
    "\n",
    "# Print the first 15 features\n",
    "print(feature_importances_df.head(15))"
   ]
  },
  {
   "cell_type": "code",
   "execution_count": 6,
   "id": "e2b760b5",
   "metadata": {},
   "outputs": [
    {
     "name": "stderr",
     "output_type": "stream",
     "text": [
      "100%|██████████████████████████████████████████████████████████████████████████████████| 29/29 [11:00<00:00, 22.78s/it]"
     ]
    },
    {
     "name": "stdout",
     "output_type": "stream",
     "text": [
      "                               Accuracy  Balanced Accuracy ROC AUC  F1 Score  \\\n",
      "Model                                                                          \n",
      "DecisionTreeClassifier             1.00               1.00    None      1.00   \n",
      "BaggingClassifier                  1.00               1.00    None      1.00   \n",
      "LGBMClassifier                     1.00               1.00    None      1.00   \n",
      "RandomForestClassifier             0.99               0.99    None      0.99   \n",
      "ExtraTreesClassifier               0.96               0.96    None      0.96   \n",
      "LogisticRegression                 0.86               0.86    None      0.86   \n",
      "CalibratedClassifierCV             0.85               0.85    None      0.84   \n",
      "LinearSVC                          0.85               0.85    None      0.85   \n",
      "SGDClassifier                      0.83               0.83    None      0.84   \n",
      "PassiveAggressiveClassifier        0.83               0.83    None      0.83   \n",
      "SVC                                0.83               0.83    None      0.83   \n",
      "NuSVC                              0.81               0.81    None      0.81   \n",
      "AdaBoostClassifier                 0.80               0.80    None      0.73   \n",
      "Perceptron                         0.79               0.79    None      0.79   \n",
      "ExtraTreeClassifier                0.76               0.76    None      0.76   \n",
      "RidgeClassifierCV                  0.76               0.76    None      0.76   \n",
      "RidgeClassifier                    0.69               0.69    None      0.69   \n",
      "LinearDiscriminantAnalysis         0.66               0.66    None      0.65   \n",
      "KNeighborsClassifier               0.58               0.58    None      0.57   \n",
      "BernoulliNB                        0.57               0.57    None      0.57   \n",
      "NearestCentroid                    0.54               0.54    None      0.53   \n",
      "GaussianNB                         0.50               0.50    None      0.46   \n",
      "QuadraticDiscriminantAnalysis      0.45               0.45    None      0.44   \n",
      "LabelSpreading                     0.20               0.20    None      0.08   \n",
      "LabelPropagation                   0.20               0.20    None      0.08   \n",
      "DummyClassifier                    0.20               0.20    None      0.07   \n",
      "\n",
      "                               Time Taken  \n",
      "Model                                      \n",
      "DecisionTreeClassifier               1.52  \n",
      "BaggingClassifier                    9.45  \n",
      "LGBMClassifier                      19.91  \n",
      "RandomForestClassifier               3.18  \n",
      "ExtraTreesClassifier                 4.11  \n",
      "LogisticRegression                   3.06  \n",
      "CalibratedClassifierCV             301.91  \n",
      "LinearSVC                           73.44  \n",
      "SGDClassifier                       11.83  \n",
      "PassiveAggressiveClassifier          7.82  \n",
      "SVC                                 43.26  \n",
      "NuSVC                               68.11  \n",
      "AdaBoostClassifier                  53.27  \n",
      "Perceptron                           3.02  \n",
      "ExtraTreeClassifier                  0.89  \n",
      "RidgeClassifierCV                    8.94  \n",
      "RidgeClassifier                      2.08  \n",
      "LinearDiscriminantAnalysis          25.48  \n",
      "KNeighborsClassifier                 1.82  \n",
      "BernoulliNB                          1.54  \n",
      "NearestCentroid                      0.90  \n",
      "GaussianNB                           1.27  \n",
      "QuadraticDiscriminantAnalysis        4.97  \n",
      "LabelSpreading                       2.55  \n",
      "LabelPropagation                     2.48  \n",
      "DummyClassifier                      0.79  \n"
     ]
    },
    {
     "name": "stderr",
     "output_type": "stream",
     "text": [
      "\n"
     ]
    }
   ],
   "source": [
    "# Initialisez un LazyClassifier\n",
    "clf = LazyClassifier(verbose=0, ignore_warnings=True, custom_metric=None)\n",
    "\n",
    "# Entraînez LazyClassifier sur les données\n",
    "models, predictions = clf.fit(X_train, X_test, y_train, y_test)\n",
    "\n",
    "# Imprimez les performances des modèles\n",
    "print(models)"
   ]
  },
  {
   "cell_type": "code",
   "execution_count": 7,
   "id": "4b5ee7a5",
   "metadata": {},
   "outputs": [
    {
     "name": "stdout",
     "output_type": "stream",
     "text": [
      "Accuracy: 0.998452810727179\n"
     ]
    }
   ],
   "source": [
    "from sklearn.ensemble import BaggingClassifier\n",
    "from sklearn.tree import DecisionTreeClassifier\n",
    "from sklearn.metrics import accuracy_score\n",
    "\n",
    "# Créer un arbre de décision\n",
    "tree = DecisionTreeClassifier()\n",
    "\n",
    "# Entraîner le BaggingClassifier\n",
    "tree.fit(X_train, y_train)\n",
    "\n",
    "# Faire des prédictions\n",
    "y_pred = tree.predict(X_test)\n",
    "\n",
    "accuracy = accuracy_score(y_test, y_pred)\n",
    "\n",
    "# Print the accuracy and feature importances\n",
    "print(\"Accuracy:\", accuracy)"
   ]
  },
  {
   "cell_type": "code",
   "execution_count": 8,
   "id": "ce812ff9",
   "metadata": {},
   "outputs": [
    {
     "name": "stdout",
     "output_type": "stream",
     "text": [
      "Accuracy: 0.22\n"
     ]
    }
   ],
   "source": [
    "from sklearn.pipeline import make_pipeline\n",
    "from sklearn.decomposition import PCA\n",
    "from sklearn.linear_model import LogisticRegression\n",
    "\n",
    "# Création du pipeline\n",
    "pipeline2 = make_pipeline(\n",
    "    PCA(n_components=2),  # Spécifiez le nombre de composantes principales souhaitées\n",
    "    LogisticRegression()  # Utilisez la régression logistique comme modèle\n",
    ")\n",
    "\n",
    "# Entraînement du modèle\n",
    "pipeline2.fit(X_train, y_train)\n",
    "\n",
    "# Prédiction sur les données de test\n",
    "y_pred6 = pipeline2.predict(X_test)\n",
    "\n",
    "# Évaluation du modèle\n",
    "accuracy6 = pipeline2.score(X_test, y_test)\n",
    "\n",
    "print(\"Accuracy: {:.2f}\".format(accuracy6))"
   ]
  },
  {
   "cell_type": "code",
   "execution_count": 9,
   "id": "0fb9e5f4",
   "metadata": {},
   "outputs": [
    {
     "data": {
      "image/png": "[encoded data removed]",
      "text/plain": [
       "<Figure size 432x288 with 1 Axes>"
      ]
     },
     "metadata": {
      "needs_background": "light"
     },
     "output_type": "display_data"
    }
   ],
   "source": [
    "import tikzplotlib\n",
    "import matplotlib.pyplot as plt\n",
    "import numpy as np\n",
    "\n",
    "# List of method names\n",
    "methods = ['Proposed', 'PF+LR', 'PCA+LR']\n",
    "\n",
    "# List of accuracies for different methods\n",
    "accuracies = [0.99, 0.51, 0.22]\n",
    "\n",
    "# Creating an array of indices for x-axis\n",
    "x_indices = np.arange(len(methods))\n",
    "\n",
    "# Custom color for each bar\n",
    "colors = ['blue', 'green', 'red']\n",
    "\n",
    "# Plotting the histogram with custom colors\n",
    "plt.bar(x_indices, accuracies, edgecolor='black', color=colors)\n",
    "\n",
    "# Setting x-axis tick labels to method names\n",
    "plt.xticks(x_indices, methods)\n",
    "\n",
    "# Adding labels and title\n",
    "plt.xlabel('Methods')\n",
    "plt.ylabel('Accuracy')\n",
    "\n",
    "# Saving the histogram as a TikZ file\n",
    "tikzplotlib.save(\"HistogramComparison_TA.tex\")"
   ]
  },
  {
   "cell_type": "code",
   "execution_count": 10,
   "id": "601483c0",
   "metadata": {},
   "outputs": [
    {
     "name": "stdout",
     "output_type": "stream",
     "text": [
      "              precision    recall  f1-score   support\n",
      "\n",
      "         1.0       1.00      1.00      1.00       388\n",
      "         2.0       1.00      1.00      1.00       387\n",
      "         3.0       1.00      1.00      1.00       388\n",
      "         4.0       1.00      1.00      1.00       388\n",
      "         5.0       1.00      1.00      1.00       388\n",
      "\n",
      "    accuracy                           1.00      1939\n",
      "   macro avg       1.00      1.00      1.00      1939\n",
      "weighted avg       1.00      1.00      1.00      1939\n",
      "\n"
     ]
    }
   ],
   "source": [
    "from sklearn.metrics import classification_report\n",
    "\n",
    "# Assuming you have y_test and y_pred from the predictions made by your ExtraTreesClassifier model\n",
    "\n",
    "# Generate the classification report\n",
    "report = classification_report(y_test, y_pred)\n",
    "\n",
    "# Print the classification report\n",
    "print(report)"
   ]
  },
  {
   "cell_type": "code",
   "execution_count": 11,
   "id": "93d28612",
   "metadata": {},
   "outputs": [
    {
     "data": {
      "image/png": "[encoded data removed]",
      "text/plain": [
       "<Figure size 432x288 with 2 Axes>"
      ]
     },
     "metadata": {
      "needs_background": "light"
     },
     "output_type": "display_data"
    }
   ],
   "source": [
    "import seaborn as sns\n",
    "import matplotlib.pyplot as plt\n",
    "from sklearn.metrics import confusion_matrix\n",
    "\n",
    "# Assuming you have y_test and y_pred from the predictions made by your ExtraTreesClassifier model\n",
    "\n",
    "# Generate the confusion matrix\n",
    "cm = confusion_matrix(y_test, y_pred)\n",
    "\n",
    "# Create a heatmap of the confusion matrix\n",
    "sns.heatmap(cm, annot=True, fmt=\"d\", cmap=\"Blues\")\n",
    "\n",
    "# Add labels, title, and axis ticks\n",
    "plt.xlabel('Predicted')\n",
    "plt.ylabel('Actual')\n",
    "plt.title('Confusion Matrix')\n",
    "plt.xticks(ticks=[1, 2, 3, 4, 5], labels=[1, 2, 3, 4, 5])\n",
    "plt.yticks(ticks=[1, 2, 3, 4, 5], labels=[1, 2, 3, 4, 5])\n",
    "\n",
    "# Display the colored confusion matrix\n",
    "plt.show()"
   ]
  },
  {
   "cell_type": "code",
   "execution_count": 12,
   "id": "a2d12756",
   "metadata": {},
   "outputs": [
    {
     "data": {
      "image/png": "[encoded data removed]",
      "text/plain": [
       "<Figure size 432x288 with 2 Axes>"
      ]
     },
     "metadata": {
      "needs_background": "light"
     },
     "output_type": "display_data"
    }
   ],
   "source": [
    "import seaborn as sns\n",
    "import matplotlib.pyplot as plt\n",
    "from sklearn.metrics import confusion_matrix\n",
    "import numpy as np\n",
    "\n",
    "# Assuming you have y_test and y_pred from the predictions made by your ExtraTreesClassifier model\n",
    "\n",
    "# Generate the confusion matrix\n",
    "cm = confusion_matrix(y_test, y_pred)\n",
    "\n",
    "# Calculate the percentages by dividing each element of the confusion matrix by the sum of its corresponding row\n",
    "cm_percent = cm.astype('float') / cm.sum(axis=1)[:, np.newaxis]\n",
    "\n",
    "# Create a heatmap of the confusion matrix with percentages\n",
    "sns.heatmap(cm_percent, annot=True, fmt=\".2%\", cmap=\"Blues\")\n",
    "\n",
    "# Add labels, title, and axis ticks\n",
    "plt.xlabel('Predicted')\n",
    "plt.ylabel('Actual')\n",
    "plt.title('Confusion Matrix (Percentages)')\n",
    "plt.xticks(ticks=[1, 2, 3, 4, 5], labels=[1, 2, 3, 4, 5])\n",
    "plt.yticks(ticks=[1, 2, 3, 4, 5], labels=[1, 2, 3, 4, 5])\n",
    "\n",
    "# Display the colored confusion matrix with percentages\n",
    "plt.show()"
   ]
  },
  {
   "cell_type": "code",
   "execution_count": 13,
   "id": "0b43940c",
   "metadata": {},
   "outputs": [
    {
     "data": {
      "text/plain": [
       "dtype('float64')"
      ]
     },
     "execution_count": 13,
     "metadata": {},
     "output_type": "execute_result"
    }
   ],
   "source": [
    "X_train.dtype"
   ]
  },
  {
   "cell_type": "code",
   "execution_count": 14,
   "id": "cb8a9a61",
   "metadata": {},
   "outputs": [
    {
     "data": {
      "image/png": "[encoded data removed]",
      "text/plain": [
       "<Figure size 720x432 with 1 Axes>"
      ]
     },
     "metadata": {
      "needs_background": "light"
     },
     "output_type": "display_data"
    }
   ],
   "source": [
    "import numpy as np\n",
    "import lime\n",
    "import lime.lime_tabular\n",
    "\n",
    "# Convert X_train back to a DataFrame to extract column names\n",
    "X_train_df = pd.DataFrame(X_train, columns=['feature_{}'.format(i) for i in range(X_train.shape[1])])\n",
    "\n",
    "# Define the LIME explainer\n",
    "explainer = lime.lime_tabular.LimeTabularExplainer(\n",
    "    training_data=X_train_df.values,\n",
    "    mode=\"classification\",\n",
    "    feature_names=X_train_df.columns,\n",
    "    class_names=[\"Class 1\", \"Class 2\", \"Class 3\", \"Class 4\", \"Class 5\"]  # Replace with your class labels\n",
    ")\n",
    "\n",
    "# Select a sample data point for which you want to estimate the variable importance\n",
    "sample_index = 0  # Replace with the index of your desired sample\n",
    "sample_instance = X_train_df.iloc[sample_index].values\n",
    "\n",
    "# Generate LIME explanations for the logistic regression model on the selected instance\n",
    "explanation = explainer.explain_instance(\n",
    "    data_row=sample_instance,\n",
    "    predict_fn=tree.predict_proba,\n",
    "    num_features=len(X_train_df.columns)\n",
    ")\n",
    "\n",
    "# Extract the feature importance scores from the LIME explanation\n",
    "feature_importance = explanation.as_map()[1]  # Replace 1 with the class index you want to analyze (e.g., 0 for class 0)\n",
    "\n",
    "# Extract feature names and scores\n",
    "features = [feature for feature, _ in feature_importance]\n",
    "scores = [score for _, score in feature_importance]\n",
    "\n",
    "# Plot the feature importance scores\n",
    "plt.figure(figsize=(10, 6))\n",
    "plt.barh(features, scores)\n",
    "plt.xlabel('Importance Score')\n",
    "plt.ylabel('Features')\n",
    "plt.title('Feature Importance (LIME)')\n",
    "plt.show()"
   ]
  }
 ],
 "metadata": {
  "kernelspec": {
   "display_name": "Python 3 (ipykernel)",
   "language": "python",
   "name": "python3"
  },
  "language_info": {
   "codemirror_mode": {
    "name": "ipython",
    "version": 3
   },
   "file_extension": ".py",
   "mimetype": "text/x-python",
   "name": "python",
   "nbconvert_exporter": "python",
   "pygments_lexer": "ipython3",
   "version": "3.9.7"
  }
 },
 "nbformat": 4,
 "nbformat_minor": 5
}
